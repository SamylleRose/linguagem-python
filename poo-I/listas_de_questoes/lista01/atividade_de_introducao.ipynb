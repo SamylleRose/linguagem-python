{
 "cells": [
  {
   "cell_type": "markdown",
   "metadata": {},
   "source": [
    "####  1. Faça um programa que o usuário informe a forma de um objeto (triângulo, quadrado ou círculo). Segundo a forma escolhida, leia as informações necessárias para calcular a área. O programa deverá repetir até o usuário escolher sair."
   ]
  },
  {
   "cell_type": "code",
   "execution_count": null,
   "metadata": {},
   "outputs": [],
   "source": [
    "while True: \n",
    "    objeto = input('Qual forma geometrica deseja calcular a area?(triangulo, quadrado ou circulo) ')\n",
    "\n",
    "    if objeto == 'triangulo':\n",
    "        base = float(input('Informe a tamanho da base do triangulo: '))\n",
    "        altura = float(input('Informe a tamanho da altura do triangulo: '))\n",
    "        area_triangulo = (base * altura) / 2\n",
    "        print(f'Área do triangulo é {area_triangulo:.2f}cm²')\n",
    "\n",
    "    elif objeto == 'quadrado':\n",
    "        lado = float(input('Informe o tamanho da lateral do quadrado: '))\n",
    "        area_quadrado = lado * lado\n",
    "        print(f'Área do quadrado é {area_quadrado:.2f}cm²')\n",
    "\n",
    "    elif objeto == 'circulo':\n",
    "        raio = float(input('Informe o tamanho do raio do circulo: '))\n",
    "        area_circulo = 3.14159265359 * (raio ** 2) \n",
    "        print(f'Área do circulo é {area_circulo:.2f}cm²')\n",
    "\n",
    "    resposta = input('Deseja finalizar o código?(s/n) ')\n",
    "    \n",
    "    if resposta == 's':\n",
    "        break\n",
    "\n",
    "    "
   ]
  },
  {
   "cell_type": "markdown",
   "metadata": {},
   "source": [
    "#### 2. Faça um programa para calcular o fatorial de um número, o código do fatorial deve ser uma função. Faça o fatorial de duas formas: a. iterativa e recursiva."
   ]
  },
  {
   "cell_type": "code",
   "execution_count": null,
   "metadata": {},
   "outputs": [],
   "source": [
    "def calcular_fatorial_iterativo(numero):\n",
    "    resultado = 1\n",
    "    for i in range(1, numero + 1):\n",
    "        resultado *= i\n",
    "    return resultado\n",
    "\n",
    "def calcular_fatorial_recursivo(numero):\n",
    "    if numero == 0:\n",
    "        return 1\n",
    "    else:\n",
    "        return numero * calcular_fatorial_recursivo(numero - 1)\n",
    "    \n",
    "\n",
    "numero = int(input('Digite um numero: '))\n",
    "\n",
    "resultado_interativo = calcular_fatorial_iterativo(numero)\n",
    "resultado_recursivo = calcular_fatorial_recursivo(numero)\n",
    "print(f'O fatorial de {numero} calculado de forma interativa é {resultado_interativo}')\n",
    "print(f'O fatorial de {numero} calculado de forma recursiva é {resultado_recursivo}')"
   ]
  },
  {
   "cell_type": "markdown",
   "metadata": {},
   "source": [
    "#### 3. Uma vez que o fatorial é uma função, use a função para calcular a combinação e arranjo de dois números. Relembrando que"
   ]
  },
  {
   "cell_type": "code",
   "execution_count": null,
   "metadata": {},
   "outputs": [],
   "source": [
    "def calcular_fatorial_recursivo(numero):\n",
    "    if numero == 0:\n",
    "        return 1\n",
    "    else:\n",
    "        return numero * calcular_fatorial_recursivo(numero - 1)\n",
    "\n",
    "def combination(n, p):\n",
    "    return calcular_fatorial_recursivo(n) / calcular_fatorial_recursivo(n-p)\n",
    "\n",
    "def arrangement(n, r):\n",
    "    return calcular_fatorial_recursivo(n) / (calcular_fatorial_recursivo(r) * calcular_fatorial_recursivo(n-r))\n",
    "\n",
    "print(combination(5, 5))\n",
    "print(arrangement(5, 5))"
   ]
  },
  {
   "cell_type": "markdown",
   "metadata": {},
   "source": [
    "#### 4. Faça uma função que receba um número inteiro e retorne verdadeiro caso ele seja primo e falso caso contrario. Em seguida, faça um código que leia dois números inteiros e positivos e calcule e exiba todos os números primos entre o intervalo formado por esses números. Caso não exista nenhum número primo dentro desse intervalo exiba a mensagem “Não existe nenhum número primo dentro desse intervalo”"
   ]
  },
  {
   "cell_type": "code",
   "execution_count": null,
   "metadata": {},
   "outputs": [],
   "source": [
    "\n",
    "def verificar_numero_primo(numero_inteiro):\n",
    "\n",
    "    contador_de_divisao = 0\n",
    "\n",
    "    for c in range(numero_inteiro - 1, 1, -1):\n",
    "        if numero_inteiro % c == 0:\n",
    "            contador_de_divisao += 1\n",
    "\n",
    "    if contador_de_divisao == 0:\n",
    "        return True\n",
    "\n",
    "    else:\n",
    "        return False\n",
    "\n",
    "\n",
    "numero1 = int(input())\n",
    "numero2 = int(input())\n",
    "\n",
    "if numero1 > numero2:\n",
    "    [numero1, numero2] = [numero2, numero1]\n",
    "\n",
    "nao_ha_primos = 1\n",
    "\n",
    "for i in range(numero1, numero2 + 1):\n",
    "    if(verificar_numero_primo(i)):\n",
    "        print(i)\n",
    "        nao_ha_primos = 0\n",
    "\n",
    "\n",
    "if nao_ha_primos:\n",
    "    print('Não existe nenhum número primo dentro desse intervalo')"
   ]
  },
  {
   "cell_type": "markdown",
   "metadata": {},
   "source": [
    "#### 5. Faça um programa que receba um valor em decimal e o converta em binário. Para fazer este programa use apenas divisões por 2. Não utilize nenhuma função que faça esta conversão automática."
   ]
  },
  {
   "cell_type": "code",
   "execution_count": null,
   "metadata": {},
   "outputs": [],
   "source": [
    "numero_decimal = int(input('Digite um numero em decimal: '))\n",
    "numero_binario = ''\n",
    "\n",
    "if numero_decimal == 0:\n",
    "    numero_binario = '0'\n",
    "    \n",
    "else:\n",
    "    while numero_decimal > 0: \n",
    "        resto = numero_decimal  % 2\n",
    "        numero_decimal  = numero_decimal // 2  \n",
    "        numero_binario = str(resto) + numero_binario\n",
    "    \n",
    "print(numero_binario)    "
   ]
  },
  {
   "cell_type": "markdown",
   "metadata": {},
   "source": [
    "#### 6. Uma companhia de teatro deseja dar uma série de espetáculos. O custo total desse espetáculo é de R$ 200,00. A direção calcula que a R$ 5,00 o ingresso seriam vendidos 120. Eles também calcularam que a cada R$ 0,50 diminuído no preço do ingresso espera-se que as vendas de ingresso aumentem em 26 unidades. Com isso, faça um algoritmo que escreva uma tabela de valores de lucros esperados em função do preço do ingresso,fazendo-o variar de R$ 5,00 até R$ 1,00 com intervalos de R$ 0,50. Escreva ainda o lucro máximo esperado, o preço do ingresso e a quantidade de ingressos vendidos para a obtenção desse lucro.\n"
   ]
  },
  {
   "cell_type": "code",
   "execution_count": null,
   "metadata": {},
   "outputs": [],
   "source": [
    "ingresso = 120\n",
    "lucro_maior = 0\n",
    "quantidade_vendidos = 0\n",
    "preco_do_ingresso = 0\n",
    "\n",
    "for i in range(10, 1, -1):\n",
    "    value = i / 2.0 \n",
    "    lucro = (value * ingresso) - 200\n",
    "\n",
    "    print(f'Preço do ingresso: {value:.2f}, Quantidade vendida: {ingresso:.2f}, Lucro: {lucro:.2f}')\n",
    "    \n",
    "    if lucro > lucro_maior:\n",
    "        lucro_maior = lucro\n",
    "        preco_do_ingresso = value\n",
    "        quantidade_vendidos = ingresso\n",
    "    \n",
    "    ingresso += 26 \n",
    "    \n",
    "    if i == 2:\n",
    "        print()\n",
    "        print(f'Lucro máximo: {lucro_maior:.2f}')\n",
    "        print(f'Preço do ingresso: {preco_do_ingresso:.2f}')\n",
    "        print(f'Quantidade vendidas: {quantidade_vendidos}')"
   ]
  }
 ],
 "metadata": {
  "kernelspec": {
   "display_name": "base",
   "language": "python",
   "name": "python3"
  },
  "language_info": {
   "codemirror_mode": {
    "name": "ipython",
    "version": 3
   },
   "file_extension": ".py",
   "mimetype": "text/x-python",
   "name": "python",
   "nbconvert_exporter": "python",
   "pygments_lexer": "ipython3",
   "version": "3.11.4"
  },
  "orig_nbformat": 4
 },
 "nbformat": 4,
 "nbformat_minor": 2
}
