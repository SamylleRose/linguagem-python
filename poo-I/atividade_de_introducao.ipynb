{
 "cells": [
  {
   "cell_type": "markdown",
   "metadata": {},
   "source": [
    "###  1. Faça um programa que o usuário informe a forma de um objeto (triângulo, quadrado ou círculo). Segundo a forma escolhida, leia as informações necessárias para calcular a área. O programa deverá repetir até o usuário escolher sair."
   ]
  },
  {
   "cell_type": "code",
   "execution_count": 7,
   "metadata": {},
   "outputs": [
    {
     "name": "stdout",
     "output_type": "stream",
     "text": [
      "Área do circulo é 314.16cm²\n",
      "Área do triangulo é 6.00cm²\n",
      "Área do quadrado é 4.00cm²\n",
      "Área do quadrado é 4.00cm²\n"
     ]
    }
   ],
   "source": [
    "while True: \n",
    "    objeto = input('Qual forma geometrica deseja calcular a area?(triangulo, quadrado ou circulo) ')\n",
    "\n",
    "    if objeto == 'triangulo':\n",
    "        base = float(input('Informe a tamanho da base do triangulo: '))\n",
    "        altura = float(input('Informe a tamanho da altura do triangulo: '))\n",
    "        area_triangulo = (base * altura) / 2\n",
    "        print(f'Área do triangulo é {area_triangulo:.2f}cm²')\n",
    "\n",
    "    elif objeto == 'quadrado':\n",
    "        lado = float(input('Informe o tamanho da lateral do quadrado: '))\n",
    "        area_quadrado = lado * lado\n",
    "        print(f'Área do quadrado é {area_quadrado:.2f}cm²')\n",
    "\n",
    "    elif objeto == 'circulo':\n",
    "        raio = float(input('Informe o tamanho do raio do circulo: '))\n",
    "        area_circulo = 3.14159265359 * (raio ** 2) \n",
    "        print(f'Área do circulo é {area_circulo:.2f}cm²')\n",
    "\n",
    "    resposta = input('Deseja finalizar o código?(s/n) ')\n",
    "    \n",
    "    if resposta == 's':\n",
    "        break\n",
    "\n",
    "    "
   ]
  },
  {
   "cell_type": "markdown",
   "metadata": {},
   "source": [
    "### 2. Faça um programa para calcular o fatorial de um número, o código do fatorial deve ser uma função. Faça o fatorial de duas formas: a. iterativa e recursiva."
   ]
  },
  {
   "cell_type": "code",
   "execution_count": null,
   "metadata": {},
   "outputs": [],
   "source": []
  },
  {
   "cell_type": "markdown",
   "metadata": {},
   "source": [
    "### 3. Uma vez que o fatorial é uma função, use a função para calcular a combinação e arranjo de dois números. Relembrando que"
   ]
  },
  {
   "cell_type": "code",
   "execution_count": null,
   "metadata": {},
   "outputs": [],
   "source": []
  },
  {
   "cell_type": "markdown",
   "metadata": {},
   "source": [
    "### 4. Faça uma função que receba um número inteiro e retorne verdadeiro caso ele seja primo e falso caso contrario. Em seguida, faça um código que leia dois números inteiros e positivos e calcule e exiba todos os números primos entre o intervalo formado por esses números. Caso não exista nenhum número primo dentro desse intervalo exiba a mensagem “Não existe nenhum número primo dentro desse intervalo”"
   ]
  },
  {
   "cell_type": "code",
   "execution_count": null,
   "metadata": {},
   "outputs": [],
   "source": []
  },
  {
   "cell_type": "markdown",
   "metadata": {},
   "source": [
    "### 5. Faça um programa que receba um valor em decimal e o converta em binário. Para fazer este programa use apenas divisões por 2. Não utilize nenhuma função que faça esta conversão automática."
   ]
  },
  {
   "cell_type": "code",
   "execution_count": null,
   "metadata": {},
   "outputs": [],
   "source": []
  },
  {
   "cell_type": "markdown",
   "metadata": {},
   "source": [
    "### 6. Uma companhia de teatro deseja dar uma série de espetáculos. O custo total desse espetáculo é de R$ 200,00. A direção calcula que a R$ 5,00 o ingresso seriam vendidos 120. Eles também calcularam que a cada R$ 0,50 diminuído no preço do ingresso espera-se que as vendas de ingresso aumentem em 26 unidades. Com isso, faça um algoritmo que escreva uma tabela de valores de lucros esperados em função do preço do ingresso,fazendo-o variar de R$ 5,00 até R$ 1,00 com intervalos de R$ 0,50. Escreva ainda o lucro máximo esperado, o preço do ingresso e a quantidade de ingressos vendidos para a obtenção desse lucro.\n"
   ]
  },
  {
   "cell_type": "code",
   "execution_count": null,
   "metadata": {},
   "outputs": [],
   "source": []
  }
 ],
 "metadata": {
  "kernelspec": {
   "display_name": "base",
   "language": "python",
   "name": "python3"
  },
  "language_info": {
   "codemirror_mode": {
    "name": "ipython",
    "version": 3
   },
   "file_extension": ".py",
   "mimetype": "text/x-python",
   "name": "python",
   "nbconvert_exporter": "python",
   "pygments_lexer": "ipython3",
   "version": "3.11.4"
  },
  "orig_nbformat": 4
 },
 "nbformat": 4,
 "nbformat_minor": 2
}
